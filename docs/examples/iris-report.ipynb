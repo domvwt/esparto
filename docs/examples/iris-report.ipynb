{
 "cells": [
  {
   "cell_type": "markdown",
   "metadata": {
    "id": "Oy98EV4EJcOy"
   },
   "source": [
    "# Iris Report\n",
    "The iris dataset is one of the most well known datasets in statistics and data science.\n",
    "This example notebook shows how we can put together a simple data analysis report in esparto.\n",
    "\n",
    "\n",
    "Specifically we will look at\n",
    "* Text content with markdown formatting\n",
    "* Including images from files\n",
    "* Converting a Pandas DataFrame to a table\n",
    "* Adding plots from Matplotlib and Seaborn"
   ]
  },
  {
   "cell_type": "code",
   "execution_count": null,
   "metadata": {
    "ExecuteTime": {
     "end_time": "2021-09-21T21:46:54.005033Z",
     "start_time": "2021-09-21T21:45:45.935Z"
    },
    "colab": {
     "base_uri": "https://localhost:8080/"
    },
    "id": "C30QlbKwJcPE",
    "outputId": "162f1970-6e9c-42a9-f5ae-de6341e93dc8"
   },
   "outputs": [],
   "source": [
    "# Environment setup\n",
    "import os\n",
    "!pip install -Uqq esparto weasyprint==52.5\n",
    "if os.environ.get(\"BINDER_SERVICE_HOST\"):\n",
    "    !pip install -Uqq pandas matplotlib seaborn"
   ]
  },
  {
   "cell_type": "code",
   "execution_count": null,
   "metadata": {
    "ExecuteTime": {
     "end_time": "2021-09-22T07:57:56.495925Z",
     "start_time": "2021-09-22T07:57:56.491630Z"
    },
    "id": "0Pzi4t5EsUlq"
   },
   "outputs": [],
   "source": [
    "import esparto as es\n",
    "import pandas as pd\n",
    "import matplotlib.pyplot as plt\n",
    "import seaborn as sns"
   ]
  },
  {
   "cell_type": "markdown",
   "metadata": {
    "id": "oOOwzOnkJcPI"
   },
   "source": [
    "We start by instantiating a Page object that we will add content to."
   ]
  },
  {
   "cell_type": "code",
   "execution_count": null,
   "metadata": {
    "ExecuteTime": {
     "end_time": "2021-09-22T07:57:56.510158Z",
     "start_time": "2021-09-22T07:57:56.505414Z"
    },
    "id": "-_DFIxBq6wa5"
   },
   "outputs": [],
   "source": [
    "my_page = es.Page(title=\"Iris Report\")"
   ]
  },
  {
   "cell_type": "markdown",
   "metadata": {
    "id": "WGPQskSfJcPJ"
   },
   "source": [
    "## Text with Markdown Formatting\n",
    "The text for this report has been taken from [Wikipedia](https://en.wikipedia.org/wiki/Iris_flower_data_set).\n",
    "Note that the text contains markdown formatting that will be converted to HTML when it is rendered."
   ]
  },
  {
   "cell_type": "code",
   "execution_count": null,
   "metadata": {
    "ExecuteTime": {
     "end_time": "2021-09-22T07:57:56.519244Z",
     "start_time": "2021-09-22T07:57:56.514125Z"
    },
    "id": "DFK3Yy1P61aU"
   },
   "outputs": [],
   "source": [
    "intro = \"\"\"\n",
    "The **Iris flower** data set, or Fisher's Iris data set, is a multivariate data set introduced by \n",
    "the British statistician, eugenicist, and biologist Ronald Fisher in his 1936 paper \n",
    "'The use of multiple measurements in taxonomic problems as an example of linear discriminant analysis'. \n",
    "It is sometimes called Anderson's Iris data set because Edgar Anderson collected the data to quantify \n",
    "the morphologic variation of Iris flowers of three related species. Two of the three species were \n",
    "collected in the Gaspé Peninsula \"all from the same pasture, and picked on the same day and measured at \n",
    "the same time by the same person with the same apparatus\".\n",
    "\n",
    "\n",
    "The data set consists of 50 samples from each of three species of Iris (Iris setosa, Iris virginica and \n",
    "Iris versicolor). Four features were measured from each sample: the length and the width of the sepals \n",
    "and petals, in centimeters. Based on the combination of these four features, Fisher developed a linear \n",
    "discriminant model to distinguish the species from each other.\n",
    "\"\"\"\n",
    "                    \n",
    "\n",
    "credits = \"\"\"\\\n",
    "<small><i>\n",
    "Text retrieved from [Wikipedia](https://en.wikipedia.org/wiki/Iris_flower_data_set) on 2021-04-05  \n",
    "License: [CC-BY-SA-3.0](https://en.wikipedia.org/wiki/Wikipedia:Text_of_Creative_Commons_Attribution-ShareAlike_3.0_Unported_License)  \n",
    "</i></small>\n",
    "  \n",
    "<small><i>\n",
    "Photo of Iris Virginica by Eric Hunt  \n",
    "License: [CC-BY-SA-4.0](https://commons.wikimedia.org/wiki/Category:CC-BY-SA-4.0)\n",
    "</i></small>\n",
    "\"\"\""
   ]
  },
  {
   "cell_type": "markdown",
   "metadata": {
    "id": "nb8AuPeqJcPM"
   },
   "source": [
    "We can immediately add and view the rendered content by using the `>>` operator. `esparto` automatically converts strings\n",
    "to Markdown, unless the string points to an image path."
   ]
  },
  {
   "cell_type": "code",
   "execution_count": null,
   "metadata": {
    "ExecuteTime": {
     "end_time": "2021-09-22T07:57:56.556294Z",
     "start_time": "2021-09-22T07:57:56.522950Z"
    },
    "colab": {
     "base_uri": "https://localhost:8080/",
     "height": 313
    },
    "id": "L2G3E3tkJcPN",
    "outputId": "08eb7d2e-09ac-40bb-b013-0a839434b04c"
   },
   "outputs": [],
   "source": [
    "my_page[\"Introduction\"] >> intro"
   ]
  },
  {
   "cell_type": "markdown",
   "metadata": {},
   "source": [
    "To add additional content without a title we use the `+=` method to append in place."
   ]
  },
  {
   "cell_type": "code",
   "execution_count": null,
   "metadata": {
    "ExecuteTime": {
     "end_time": "2021-09-22T07:57:56.563654Z",
     "start_time": "2021-09-22T07:57:56.559151Z"
    }
   },
   "outputs": [],
   "source": [
    "my_page.introduction += credits"
   ]
  },
  {
   "cell_type": "code",
   "execution_count": null,
   "metadata": {
    "ExecuteTime": {
     "end_time": "2021-09-22T07:57:56.599071Z",
     "start_time": "2021-09-22T07:57:56.568148Z"
    }
   },
   "outputs": [],
   "source": [
    "my_page.introduction"
   ]
  },
  {
   "cell_type": "markdown",
   "metadata": {
    "id": "jgsB_GDNJcPP"
   },
   "source": [
    "## Images\n",
    "To add an image to the report, we pass the image file path as a string.\n",
    "A caption and alternative text can also be provided.\n",
    "\n",
    "\n",
    "Since the original image is rather large we set a maximum height with `.set_height()`."
   ]
  },
  {
   "cell_type": "code",
   "execution_count": null,
   "metadata": {
    "ExecuteTime": {
     "end_time": "2021-09-22T07:57:57.336900Z",
     "start_time": "2021-09-22T07:57:56.601884Z"
    },
    "colab": {
     "base_uri": "https://localhost:8080/"
    },
    "id": "5dRCkslIJv8s",
    "outputId": "2f35ffdb-4579-4b2d-e949-a54a20c6ff5e"
   },
   "outputs": [],
   "source": [
    "!wget -q https://upload.wikimedia.org/wikipedia/commons/thumb/f/f8/Iris_virginica_2.jpg/480px-Iris_virginica_2.jpg \\\n",
    "-O iris-virginica.jpg"
   ]
  },
  {
   "cell_type": "code",
   "execution_count": null,
   "metadata": {
    "ExecuteTime": {
     "end_time": "2021-09-22T07:57:57.361934Z",
     "start_time": "2021-09-22T07:57:57.348278Z"
    },
    "colab": {
     "base_uri": "https://localhost:8080/",
     "height": 422
    },
    "id": "hP3KHcXe6Hpy",
    "outputId": "ac6b01da-8d46-47b9-f5b4-79b63e3b6437"
   },
   "outputs": [],
   "source": [
    "pic = \"./iris-virginica.jpg\"\n",
    "iris_img = es.Image(pic, caption=\"Iris Virginica\", alt_text=pic)\n",
    "iris_img.set_height(250)"
   ]
  },
  {
   "cell_type": "code",
   "execution_count": null,
   "metadata": {
    "ExecuteTime": {
     "end_time": "2021-09-22T07:57:57.436253Z",
     "start_time": "2021-09-22T07:57:57.367066Z"
    }
   },
   "outputs": [],
   "source": [
    "iris_img"
   ]
  },
  {
   "cell_type": "markdown",
   "metadata": {
    "id": "tillrJmYJcPS"
   },
   "source": [
    "Now that we've finished our Introduction section, we should check that it looks as intended."
   ]
  },
  {
   "cell_type": "code",
   "execution_count": null,
   "metadata": {
    "ExecuteTime": {
     "end_time": "2021-09-22T07:57:57.517363Z",
     "start_time": "2021-09-22T07:57:57.439020Z"
    },
    "colab": {
     "base_uri": "https://localhost:8080/",
     "height": 743
    },
    "id": "8LhgxHQjJcPS",
    "outputId": "82571d2a-b070-4ebc-d256-282180cdccab"
   },
   "outputs": [],
   "source": [
    "my_page.introduction[0] += iris_img\n",
    "my_page.introduction"
   ]
  },
  {
   "cell_type": "markdown",
   "metadata": {
    "id": "kuDk7XgjJcPV"
   },
   "source": [
    "## Pandas DataFrames\n",
    "For the Analysis section we will include a table of sample data from a Pandas DataFrame and a couple of visualisations \n",
    "produced in MatplotLib and Seaborn.\n",
    "\n",
    "The data set is downloaded from GitHub and read in with the usual Pandas API."
   ]
  },
  {
   "cell_type": "code",
   "execution_count": null,
   "metadata": {
    "ExecuteTime": {
     "end_time": "2021-09-22T07:57:57.881782Z",
     "start_time": "2021-09-22T07:57:57.522698Z"
    },
    "colab": {
     "base_uri": "https://localhost:8080/",
     "height": 359
    },
    "id": "_lAVXOx4JcPX",
    "outputId": "6dbf1d63-5a12-4715-fd6b-2b3373a4b7f7"
   },
   "outputs": [],
   "source": [
    "df = pd.read_csv('https://raw.githubusercontent.com/mwaskom/seaborn-data/master/iris.csv')\n",
    "sample_df = df.sample(10, random_state=1)"
   ]
  },
  {
   "cell_type": "markdown",
   "metadata": {},
   "source": [
    "Using the `<<` operator adds content to the page but returns the original object.\n",
    "\n",
    "We explicitly call the `DataFramePD` class so that we can hide the index."
   ]
  },
  {
   "cell_type": "code",
   "execution_count": null,
   "metadata": {
    "ExecuteTime": {
     "end_time": "2021-09-22T07:57:57.920135Z",
     "start_time": "2021-09-22T07:57:57.884460Z"
    },
    "colab": {
     "base_uri": "https://localhost:8080/",
     "height": 359
    },
    "id": "_lAVXOx4JcPX",
    "outputId": "6dbf1d63-5a12-4715-fd6b-2b3373a4b7f7"
   },
   "outputs": [],
   "source": [
    "my_page[\"Analysis\"][\"Sample Data\"] << es.DataFramePd(sample_df, index=False)"
   ]
  },
  {
   "cell_type": "markdown",
   "metadata": {
    "id": "5uNuMqJ8JcPc"
   },
   "source": [
    "## Plotting with Matplotlib and Seaborn"
   ]
  },
  {
   "cell_type": "code",
   "execution_count": null,
   "metadata": {
    "ExecuteTime": {
     "end_time": "2021-09-22T07:57:57.931811Z",
     "start_time": "2021-09-22T07:57:57.925142Z"
    },
    "id": "Yq0cgw3cJcPd"
   },
   "outputs": [],
   "source": [
    "sns.set_palette(\"colorblind\")\n",
    "sns.set_style(\"white\")"
   ]
  },
  {
   "cell_type": "code",
   "execution_count": null,
   "metadata": {
    "ExecuteTime": {
     "end_time": "2021-09-22T07:57:57.943352Z",
     "start_time": "2021-09-22T07:57:57.935727Z"
    },
    "id": "auIWd5znJcPe"
   },
   "outputs": [],
   "source": [
    "df.species = df.species.astype(\"category\")"
   ]
  },
  {
   "cell_type": "code",
   "execution_count": null,
   "metadata": {
    "ExecuteTime": {
     "end_time": "2021-09-22T07:57:58.412549Z",
     "start_time": "2021-09-22T07:57:57.945995Z"
    },
    "colab": {
     "base_uri": "https://localhost:8080/",
     "height": 369
    },
    "id": "EbC6No8KJcPe",
    "outputId": "fddeeae2-785b-4111-92ea-e604c3632adb"
   },
   "outputs": [],
   "source": [
    "plt.style.use(\"seaborn-paper\")\n",
    "fig1, ax = plt.subplots()\n",
    "\n",
    "for i, s in enumerate(df.species.cat.categories):\n",
    "    plot_data = df.loc[df.species == s]\n",
    "    ax.scatter(plot_data.petal_length, plot_data.petal_width, alpha=0.7, c=f\"C{i}\", label=s.capitalize())\n",
    "\n",
    "ax.set_title(\"Petal Length vs Petal Width\")\n",
    "ax.set_xlabel(\"Petal Length (cm)\")\n",
    "ax.set_ylabel(\"Petal Width (cm)\")\n",
    "ax.legend()\n",
    "fig1.tight_layout();"
   ]
  },
  {
   "cell_type": "code",
   "execution_count": null,
   "metadata": {
    "ExecuteTime": {
     "end_time": "2021-09-22T07:57:58.421651Z",
     "start_time": "2021-09-22T07:57:58.415800Z"
    }
   },
   "outputs": [],
   "source": [
    "my_page[\"Analysis\"][\"Visualisation\"] = fig1"
   ]
  },
  {
   "cell_type": "markdown",
   "metadata": {
    "id": "0T9RJ9nXJcPg"
   },
   "source": [
    "For some plots we may need to get the figure by calling `plt.gcf()` (get current figure), as shown below."
   ]
  },
  {
   "cell_type": "code",
   "execution_count": null,
   "metadata": {
    "ExecuteTime": {
     "end_time": "2021-09-22T07:57:58.795581Z",
     "start_time": "2021-09-22T07:57:58.425344Z"
    },
    "colab": {
     "base_uri": "https://localhost:8080/",
     "height": 473
    },
    "id": "29-DgjGFYk3z",
    "outputId": "18525e76-fdc6-48b9-fdcb-1e911f0f1a2c"
   },
   "outputs": [],
   "source": [
    "sns.set_context(\"paper\")\n",
    "ax = sns.kdeplot(data=df)\n",
    "ax.set_title(\"Kernel Density Estimates\")\n",
    "ax.set_xlabel(\"Measurement (cm)\")\n",
    "fig2 = plt.gcf()\n",
    "plt.tight_layout()"
   ]
  },
  {
   "cell_type": "code",
   "execution_count": null,
   "metadata": {
    "ExecuteTime": {
     "end_time": "2021-09-22T07:57:58.977118Z",
     "start_time": "2021-09-22T07:57:58.798761Z"
    },
    "colab": {
     "base_uri": "https://localhost:8080/",
     "height": 1000
    },
    "id": "I1lpQqbwJcPi",
    "outputId": "92295a71-b78c-4682-fb23-fa866a7ee856"
   },
   "outputs": [],
   "source": [
    "my_page.analysis.visualisation += fig2\n",
    "my_page.analysis.visualisation"
   ]
  },
  {
   "cell_type": "markdown",
   "metadata": {
    "id": "35oecWivJcPk"
   },
   "source": [
    "## Checking the Finished Page\n",
    "\n",
    "We can preview the final page rendering within the notebook."
   ]
  },
  {
   "cell_type": "code",
   "execution_count": null,
   "metadata": {
    "ExecuteTime": {
     "end_time": "2021-09-22T07:57:59.276514Z",
     "start_time": "2021-09-22T07:57:58.981718Z"
    },
    "colab": {
     "base_uri": "https://localhost:8080/",
     "height": 1000
    },
    "id": "1TfFY0A4JcPo",
    "outputId": "88132291-3b2d-45a8-90eb-bd89e48077cc",
    "scrolled": false
   },
   "outputs": [],
   "source": [
    "my_page"
   ]
  },
  {
   "cell_type": "markdown",
   "metadata": {
    "id": "jeDYcQ2iJcPp"
   },
   "source": [
    "The page can now be saved as HTML or PDF."
   ]
  },
  {
   "cell_type": "code",
   "execution_count": null,
   "metadata": {
    "ExecuteTime": {
     "end_time": "2021-09-22T07:58:04.226536Z",
     "start_time": "2021-09-22T07:57:59.280272Z"
    },
    "id": "05oH3hyt7Bvh"
   },
   "outputs": [],
   "source": [
    "page_name = \"iris-report.html\"\n",
    "my_page.save_html(\"iris-report.html\")\n",
    "my_page.save_pdf(\"iris-report.pdf\")"
   ]
  },
  {
   "cell_type": "code",
   "execution_count": null,
   "metadata": {},
   "outputs": [],
   "source": []
  }
 ],
 "metadata": {
  "colab": {
   "collapsed_sections": [],
   "name": "iris-report.ipynb",
   "provenance": []
  },
  "hide_input": false,
  "kernelspec": {
   "display_name": "Python 3",
   "language": "python",
   "name": "python3"
  },
  "language_info": {
   "codemirror_mode": {
    "name": "ipython",
    "version": 3
   },
   "file_extension": ".py",
   "mimetype": "text/x-python",
   "name": "python",
   "nbconvert_exporter": "python",
   "pygments_lexer": "ipython3",
   "version": "3.8.5"
  },
  "toc": {
   "base_numbering": 1,
   "nav_menu": {},
   "number_sections": true,
   "sideBar": true,
   "skip_h1_title": false,
   "title_cell": "Table of Contents",
   "title_sidebar": "Contents",
   "toc_cell": false,
   "toc_position": {},
   "toc_section_display": true,
   "toc_window_display": false
  },
  "varInspector": {
   "cols": {
    "lenName": 16,
    "lenType": 16,
    "lenVar": 40
   },
   "kernels_config": {
    "python": {
     "delete_cmd_postfix": "",
     "delete_cmd_prefix": "del ",
     "library": "var_list.py",
     "varRefreshCmd": "print(var_dic_list())"
    },
    "r": {
     "delete_cmd_postfix": ") ",
     "delete_cmd_prefix": "rm(",
     "library": "var_list.r",
     "varRefreshCmd": "cat(var_dic_list()) "
    }
   },
   "types_to_exclude": [
    "module",
    "function",
    "builtin_function_or_method",
    "instance",
    "_Feature"
   ],
   "window_display": false
  }
 },
 "nbformat": 4,
 "nbformat_minor": 1
}
