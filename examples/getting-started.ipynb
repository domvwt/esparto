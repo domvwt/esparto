{
 "cells": [
  {
   "cell_type": "markdown",
   "id": "sixth-acrobat",
   "metadata": {},
   "source": [
    "# Getting Started Guide"
   ]
  },
  {
   "cell_type": "markdown",
   "id": "72210dc1",
   "metadata": {
    "ExecuteTime": {
     "start_time": "2021-09-21T19:58:43.373Z"
    }
   },
   "source": [
    "In this notebook we demonstrate how to build and design a page with **esparto**."
   ]
  },
  {
   "cell_type": "code",
   "execution_count": null,
   "id": "b946416f",
   "metadata": {
    "ExecuteTime": {
     "end_time": "2021-09-21T21:40:00.994747Z",
     "start_time": "2021-09-21T21:39:55.729695Z"
    }
   },
   "outputs": [],
   "source": [
    "# Environment setup\n",
    "import os\n",
    "!pip install -Uqq esparto\n",
    "if os.environ.get(\"BINDER_SERVICE_HOST\"):\n",
    "    !pip install -Uqq pandas matplotlib seaborn"
   ]
  },
  {
   "cell_type": "code",
   "execution_count": null,
   "id": "biological-cruise",
   "metadata": {
    "ExecuteTime": {
     "end_time": "2021-09-21T21:40:03.581615Z",
     "start_time": "2021-09-21T21:40:00.998674Z"
    }
   },
   "outputs": [],
   "source": [
    "import esparto as es\n",
    "import pandas as pd\n",
    "import matplotlib.pyplot as plt\n",
    "import seaborn as sns\n",
    "from pathlib import Path"
   ]
  },
  {
   "cell_type": "markdown",
   "id": "df2ff417",
   "metadata": {},
   "source": [
    "## Page Creation"
   ]
  },
  {
   "cell_type": "markdown",
   "id": "92968a2a",
   "metadata": {},
   "source": [
    "All pages start with a Page object. When a Page is initialised we are allowed to specify a page title, which will \n",
    "appear at the top of the page, a navbrand which will be displayed in the header, and several other options which are\n",
    "detailed in the documentation.\n",
    "\n",
    "\n",
    "Creating the Page::"
   ]
  },
  {
   "cell_type": "code",
   "execution_count": null,
   "id": "a12076b1",
   "metadata": {
    "ExecuteTime": {
     "end_time": "2021-09-21T21:40:03.594658Z",
     "start_time": "2021-09-21T21:40:03.586730Z"
    }
   },
   "outputs": [],
   "source": [
    "page = es.Page(title=\"Page Title\")"
   ]
  },
  {
   "cell_type": "markdown",
   "id": "binding-medicaid",
   "metadata": {},
   "source": [
    "## Content Types"
   ]
  },
  {
   "cell_type": "markdown",
   "id": "c65988c4",
   "metadata": {},
   "source": [
    "The following content types are supported:\n",
    "\n",
    "* Markdown Text\n",
    "* Images\n",
    "* Pandas DataFrames\n",
    "* Plots from Matplotlib, Plotly, and Bokeh\n",
    "\n",
    "When a content object is added to the page it is automatically converted to the matching Esparto Content class.\n",
    "Additional options may be chosen by explicitly instantiating the object although default settings should be suitable\n",
    "for most scenarios."
   ]
  },
  {
   "cell_type": "markdown",
   "id": "necessary-midnight",
   "metadata": {},
   "source": [
    "### Markdown"
   ]
  },
  {
   "cell_type": "markdown",
   "id": "1e051ebe",
   "metadata": {},
   "source": [
    "Creating Markdown content from a string:"
   ]
  },
  {
   "cell_type": "code",
   "execution_count": null,
   "id": "cordless-jungle",
   "metadata": {
    "ExecuteTime": {
     "end_time": "2021-09-21T21:40:03.670702Z",
     "start_time": "2021-09-21T21:40:03.600170Z"
    }
   },
   "outputs": [],
   "source": [
    "page = es.Page()\n",
    "markdown_text = \"\"\"\n",
    "**Markdown** is a *lightweight markup language* for creating formatted text using a plain-text editor. \n",
    "**John Gruber** and **Aaron Swartz** created Markdown in 2004 as a markup language that is appealing to human \n",
    "readers in its source code form. Markdown is widely used in:\n",
    "\n",
    "* blogging\n",
    "* instant messaging\n",
    "* online forums \n",
    "* collaborative software \n",
    "* documentation pages\n",
    "* readme files\n",
    "\n",
    "----\n",
    "\n",
    "<small>*From Wikipedia:* [*Markdown*](https://en.wikipedia.org/wiki/Markdown)</small>\n",
    "\"\"\"\n",
    "page[0] = es.Markdown(markdown_text)\n",
    "page[0]"
   ]
  },
  {
   "cell_type": "markdown",
   "id": "863efdc2",
   "metadata": {},
   "source": [
    "Reading the same Markdown from a text file:"
   ]
  },
  {
   "cell_type": "code",
   "execution_count": null,
   "id": "f7afcf5c",
   "metadata": {
    "ExecuteTime": {
     "end_time": "2021-09-21T21:40:03.731952Z",
     "start_time": "2021-09-21T21:40:03.675106Z"
    }
   },
   "outputs": [],
   "source": [
    "Path(\"markdown.md\").write_text(markdown_text)\n",
    "page[0] = \"markdown.md\"\n",
    "page[0]"
   ]
  },
  {
   "cell_type": "markdown",
   "id": "narrow-differential",
   "metadata": {},
   "source": [
    "### Images"
   ]
  },
  {
   "cell_type": "markdown",
   "id": "3b8b5a9e",
   "metadata": {},
   "source": [
    "Reading an image from a file path:"
   ]
  },
  {
   "cell_type": "code",
   "execution_count": null,
   "id": "growing-saver",
   "metadata": {
    "ExecuteTime": {
     "end_time": "2021-09-21T21:40:03.753250Z",
     "start_time": "2021-09-21T21:40:03.738292Z"
    }
   },
   "outputs": [],
   "source": [
    "image_path = \"my-image.png\"\n",
    "page[0][0][0] = image_path\n",
    "page.tree()"
   ]
  },
  {
   "cell_type": "code",
   "execution_count": null,
   "id": "1dbf0f88",
   "metadata": {
    "ExecuteTime": {
     "end_time": "2021-09-21T21:40:04.004724Z",
     "start_time": "2021-09-21T21:40:03.759832Z"
    }
   },
   "outputs": [],
   "source": [
    "image_credit = \"Photo by Benjamin Voros for Unsplash\"\n",
    "page[0][0][1] = es.Image(image_path, caption=image_credit)\n",
    "page[0]"
   ]
  },
  {
   "cell_type": "markdown",
   "id": "silver-insert",
   "metadata": {},
   "source": [
    "### Pandas DataFrames"
   ]
  },
  {
   "cell_type": "markdown",
   "id": "7755d253",
   "metadata": {},
   "source": [
    "Creating a table from a Pandas DataFrame:"
   ]
  },
  {
   "cell_type": "code",
   "execution_count": null,
   "id": "boring-wound",
   "metadata": {
    "ExecuteTime": {
     "end_time": "2021-09-21T21:40:04.179243Z",
     "start_time": "2021-09-21T21:40:04.024441Z"
    }
   },
   "outputs": [],
   "source": [
    "df00 = sns.load_dataset(\"mpg\")\n",
    "pandas_df = df00.describe().round(2).T[[\"mean\", \"std\", \"50%\"]]\n",
    "\n",
    "page[0] = es.DataFramePd(pandas_df)\n",
    "page[0]"
   ]
  },
  {
   "cell_type": "markdown",
   "id": "alleged-botswana",
   "metadata": {},
   "source": [
    "### Matplotlib Figures"
   ]
  },
  {
   "cell_type": "markdown",
   "id": "059b37c0",
   "metadata": {},
   "source": [
    "Creating a plot from a Matplotlib figure:"
   ]
  },
  {
   "cell_type": "code",
   "execution_count": null,
   "id": "floating-gambling",
   "metadata": {
    "ExecuteTime": {
     "end_time": "2021-09-21T21:40:04.580046Z",
     "start_time": "2021-09-21T21:40:04.187792Z"
    },
    "scrolled": false
   },
   "outputs": [],
   "source": [
    "mpl_fig, ax = plt.subplots()\n",
    "\n",
    "colors = [\"C0\", \"C1\", \"C2\"]\n",
    "df00.groupby(\"origin\")[\"horsepower\"].mean().plot.bar(color=colors, rot=0, ax=ax)\n",
    "ax.set_title(\"Mean Horsepower by Origin\")\n",
    "ax.set_ylabel(\"Horsepower\")\n",
    "ax.set_xlabel(\"Origin\")\n",
    "mpl_fig.tight_layout()\n",
    "plt.close()  # prevent auto-plotting in notebook\n",
    "\n",
    "page[0] = es.FigureMpl(mpl_fig)\n",
    "page[0]"
   ]
  },
  {
   "cell_type": "markdown",
   "id": "olympic-portrait",
   "metadata": {},
   "source": [
    "## Page Layout"
   ]
  },
  {
   "cell_type": "markdown",
   "id": "willing-seeker",
   "metadata": {},
   "source": [
    "### Rows and Columns"
   ]
  },
  {
   "cell_type": "markdown",
   "id": "020f282c",
   "metadata": {},
   "source": [
    "Pages are arranged in Sections, Rows, and Columns. If fine control over the layout is not required, the specific row\n",
    "and / or column can be omitted and Esparto will infer the logical structure:"
   ]
  },
  {
   "cell_type": "code",
   "execution_count": null,
   "id": "sticky-aggregate",
   "metadata": {
    "ExecuteTime": {
     "end_time": "2021-09-21T21:40:04.603041Z",
     "start_time": "2021-09-21T21:40:04.587002Z"
    }
   },
   "outputs": [],
   "source": [
    "my_page = es.Page(title=\"Page Title\")\n",
    "my_page[0] = \"Page Content\"\n",
    "my_page.tree()"
   ]
  },
  {
   "cell_type": "markdown",
   "id": "45490d85",
   "metadata": {},
   "source": [
    "#### Add Content"
   ]
  },
  {
   "cell_type": "markdown",
   "id": "4bfaedd2",
   "metadata": {},
   "source": [
    "Specifying the Section, Row, and Column:"
   ]
  },
  {
   "cell_type": "code",
   "execution_count": null,
   "id": "01fafd39",
   "metadata": {
    "ExecuteTime": {
     "end_time": "2021-09-21T21:40:04.697115Z",
     "start_time": "2021-09-21T21:40:04.610612Z"
    }
   },
   "outputs": [],
   "source": [
    "page = es.Page(\"Page Title\")\n",
    "page[\"Section One\"][\"Row One\"][\"Column One\"] = \"Some content\"\n",
    "page[\"Section One\"][\"Row One\"][\"Column Two\"] = \"More content\"\n",
    "page.tree()"
   ]
  },
  {
   "cell_type": "markdown",
   "id": "4cb5c48b",
   "metadata": {},
   "source": [
    "Adding multiple Columns to the same Row using a tuple of dictionaries:"
   ]
  },
  {
   "cell_type": "code",
   "execution_count": null,
   "id": "64870bc4",
   "metadata": {
    "ExecuteTime": {
     "end_time": "2021-09-21T21:40:04.718851Z",
     "start_time": "2021-09-21T21:40:04.704145Z"
    }
   },
   "outputs": [],
   "source": [
    "page = es.Page(\"Page Title\")\n",
    "page[\"Section One\"][\"Row One\"] = (\n",
    "    {\"Column One\": \"Some content\"}, \n",
    "    {\"Column Two\": \"More content\"}\n",
    ")\n",
    "page.tree()"
   ]
  },
  {
   "cell_type": "markdown",
   "id": "ae612283",
   "metadata": {},
   "source": [
    "#### Update Content"
   ]
  },
  {
   "cell_type": "markdown",
   "id": "b21b2c6c",
   "metadata": {},
   "source": [
    "Update content using indexing or object attributes:"
   ]
  },
  {
   "cell_type": "code",
   "execution_count": null,
   "id": "9b51e9c4",
   "metadata": {
    "ExecuteTime": {
     "end_time": "2021-09-21T21:40:04.740584Z",
     "start_time": "2021-09-21T21:40:04.725959Z"
    }
   },
   "outputs": [],
   "source": [
    "page[\"Section One\"][\"Row One\"][\"Column One\"] = image_path\n",
    "page.section_one.row_one.column_two = image_path\n",
    "page.tree()"
   ]
  },
  {
   "cell_type": "markdown",
   "id": "000f6b50",
   "metadata": {},
   "source": [
    "#### Delete Content"
   ]
  },
  {
   "cell_type": "markdown",
   "id": "8451c647",
   "metadata": {},
   "source": [
    "Delete content by index or attribute name:"
   ]
  },
  {
   "cell_type": "code",
   "execution_count": null,
   "id": "4802abde",
   "metadata": {
    "ExecuteTime": {
     "end_time": "2021-09-21T21:40:04.759446Z",
     "start_time": "2021-09-21T21:40:04.747606Z"
    }
   },
   "outputs": [],
   "source": [
    "del page.section_one.row_one[-1]\n",
    "page.tree()"
   ]
  },
  {
   "cell_type": "markdown",
   "id": "b6d05194",
   "metadata": {
    "ExecuteTime": {
     "end_time": "2021-09-20T20:00:46.759502Z",
     "start_time": "2021-09-20T20:00:46.752587Z"
    }
   },
   "source": [
    "Alternatively, we can delete content by accessing its attribute:\n",
    "```python\n",
    "del page.section_one.row_one.new_title\n",
    "```"
   ]
  },
  {
   "cell_type": "markdown",
   "id": "dab93a0f",
   "metadata": {},
   "source": [
    "#### Auto Layout"
   ]
  },
  {
   "cell_type": "markdown",
   "id": "20c741ea",
   "metadata": {},
   "source": [
    "We can create a basic page with the methods covered so far:"
   ]
  },
  {
   "cell_type": "code",
   "execution_count": null,
   "id": "b780b453",
   "metadata": {
    "ExecuteTime": {
     "end_time": "2021-09-21T21:40:04.962342Z",
     "start_time": "2021-09-21T21:40:04.767793Z"
    }
   },
   "outputs": [],
   "source": [
    "my_page = es.Page(title=\"My Report\")\n",
    "my_image = es.Image(\"my-image.png\", caption=image_credit)\n",
    "my_page[\"Words and Images\"] = (\"markdown.md\", my_image)\n",
    "\n",
    "my_page"
   ]
  },
  {
   "cell_type": "markdown",
   "id": "5dcb98e3",
   "metadata": {},
   "source": [
    "Esparto infers the full Page structure without explicit instructions. This code generates the same page as above:"
   ]
  },
  {
   "cell_type": "code",
   "execution_count": null,
   "id": "super-investor",
   "metadata": {
    "ExecuteTime": {
     "end_time": "2021-09-21T21:40:04.988210Z",
     "start_time": "2021-09-21T21:40:04.969294Z"
    }
   },
   "outputs": [],
   "source": [
    "my_page_by_hand = es.Page(title=\"My Report\", children=[\n",
    "    es.Section(title=\"Words and Images\", children=[\n",
    "        es.Row(children=[\n",
    "            es.Column(children=[\"markdown.md\"]),\n",
    "            es.Column(children=[my_image])\n",
    "        ])\n",
    "    ])\n",
    "])\n",
    "my_page_by_hand.tree()"
   ]
  },
  {
   "cell_type": "code",
   "execution_count": null,
   "id": "5c5dc42b",
   "metadata": {
    "ExecuteTime": {
     "end_time": "2021-09-21T21:40:05.005435Z",
     "start_time": "2021-09-21T21:40:04.996660Z"
    }
   },
   "outputs": [],
   "source": [
    "assert my_page == my_page_by_hand\n",
    "# True"
   ]
  },
  {
   "cell_type": "markdown",
   "id": "focused-northern",
   "metadata": {},
   "source": [
    "### Content Cards"
   ]
  },
  {
   "cell_type": "markdown",
   "id": "1567abb9",
   "metadata": {},
   "source": [
    "Cards are useful for grouping related content:"
   ]
  },
  {
   "cell_type": "code",
   "execution_count": null,
   "id": "burning-concrete",
   "metadata": {
    "ExecuteTime": {
     "end_time": "2021-09-21T21:40:05.200715Z",
     "start_time": "2021-09-21T21:40:05.012960Z"
    }
   },
   "outputs": [],
   "source": [
    "data_sample = df00.iloc[:, :4].head(5)\n",
    "data_types = df00.dtypes.rename(\"Data Type\").to_frame()\n",
    "card_a = es.Card(title=\"Data Types\", children=[data_types])\n",
    "card_b = es.Card(title=\"Summary Stats\", children=[mpl_fig, pandas_df])\n",
    "card_a + card_b"
   ]
  },
  {
   "cell_type": "markdown",
   "id": "b1071950",
   "metadata": {},
   "source": [
    "Adding Cards to a Section:"
   ]
  },
  {
   "cell_type": "code",
   "execution_count": null,
   "id": "arctic-terry",
   "metadata": {
    "ExecuteTime": {
     "end_time": "2021-09-21T21:40:05.222809Z",
     "start_time": "2021-09-21T21:40:05.208154Z"
    }
   },
   "outputs": [],
   "source": [
    "section_two = es.Section(title=\"Data Analysis\")\n",
    "section_two[0] = (card_a, card_b)\n",
    "section_two.tree()"
   ]
  },
  {
   "cell_type": "markdown",
   "id": "a41f553e",
   "metadata": {},
   "source": [
    "### Card Sections"
   ]
  },
  {
   "cell_type": "markdown",
   "id": "d6adeb71",
   "metadata": {},
   "source": [
    "Card Sections can be used when content should be wrapped in Cards by default:"
   ]
  },
  {
   "cell_type": "code",
   "execution_count": null,
   "id": "abc6fc93",
   "metadata": {
    "ExecuteTime": {
     "end_time": "2021-09-21T21:40:05.253525Z",
     "start_time": "2021-09-21T21:40:05.230967Z"
    }
   },
   "outputs": [],
   "source": [
    "section_two = es.CardSection(title=\"Data Analysis\")\n",
    "section_two[0] = (\n",
    "    {\"Data Types\": data_types},\n",
    "    {\"Summary Stats\": [mpl_fig, pandas_df]}\n",
    ")\n",
    "section_two.tree()"
   ]
  },
  {
   "cell_type": "markdown",
   "id": "8ed77bbe",
   "metadata": {},
   "source": [
    "### Using Spacers"
   ]
  },
  {
   "cell_type": "markdown",
   "id": "51b43d13",
   "metadata": {},
   "source": [
    "Spacers create empty Columns in a Row:"
   ]
  },
  {
   "cell_type": "code",
   "execution_count": null,
   "id": "599cf1e2",
   "metadata": {
    "ExecuteTime": {
     "end_time": "2021-09-21T21:40:05.360122Z",
     "start_time": "2021-09-21T21:40:05.265236Z"
    }
   },
   "outputs": [],
   "source": [
    "page = es.Page()\n",
    "page[0] = ({\"Markdown\": markdown_text}, es.Spacer())\n",
    "page[0]"
   ]
  },
  {
   "cell_type": "markdown",
   "id": "downtown-briefs",
   "metadata": {},
   "source": [
    "### Page Breaks"
   ]
  },
  {
   "cell_type": "markdown",
   "id": "a86542d5",
   "metadata": {},
   "source": [
    "Page Breaks indicate the end of a page when printing or converting to PDF:"
   ]
  },
  {
   "cell_type": "code",
   "execution_count": null,
   "id": "overhead-accreditation",
   "metadata": {
    "ExecuteTime": {
     "end_time": "2021-09-21T21:40:05.383400Z",
     "start_time": "2021-09-21T21:40:05.367053Z"
    }
   },
   "outputs": [],
   "source": [
    "my_page[\"Data Analysis\"] = section_two\n",
    "my_page.children.insert(1, es.PageBreak())\n",
    "my_page.tree()"
   ]
  },
  {
   "cell_type": "markdown",
   "id": "1513a7ae",
   "metadata": {},
   "source": [
    "## Esparto Options"
   ]
  },
  {
   "cell_type": "markdown",
   "id": "988db5ef",
   "metadata": {},
   "source": [
    "The options available in `es.options` allow control over how dependencies are source and provisioned, \n",
    "as well as the behaviour of certain content types."
   ]
  },
  {
   "cell_type": "markdown",
   "id": "a889cecb",
   "metadata": {
    "ExecuteTime": {
     "end_time": "2021-09-21T17:10:36.545656Z",
     "start_time": "2021-09-21T17:10:36.539808Z"
    }
   },
   "source": [
    "```python\n",
    ">>> es.options?\n",
    "```\n",
    "```Options for configuring esparto behaviour and output.\n",
    "\n",
    "Config options will automatically be loaded if a yaml file is found at\n",
    "either './esparto-config.yaml' or '~/esparto-data/esparto-config.yaml'.\n",
    "\n",
    "Attributes:\n",
    "    dependency_source (str):\n",
    "        How dependencies should be provisioned: 'cdn' or 'inline'.\n",
    "    bootstrap_cdn (str):\n",
    "        Link to Bootstrap CDN. Used if dependency source is 'cdn'.\n",
    "        Alternative links are available via esparto.bootstrap_cdn_themes.\n",
    "    bootstrap_css (str):\n",
    "        Path to Bootstrap CSS file. Used if dependency source is 'inline'.\n",
    "    esparto_css (str):\n",
    "        Path to additional CSS file with esparto specific styles.\n",
    "    jinja_template (str):\n",
    "        Path to Jinja HTML page template.\n",
    "\n",
    "    matplotlib: Additional config options for Matplotlib.\n",
    "    plotly: Additional config options for Plotly.\n",
    "    bokeh: Additional config options for Bokeh.\n",
    "```"
   ]
  },
  {
   "cell_type": "markdown",
   "id": "comprehensive-region",
   "metadata": {},
   "source": [
    "## Saving your Work"
   ]
  },
  {
   "cell_type": "markdown",
   "id": "9726529e",
   "metadata": {},
   "source": [
    "### As a Webpage"
   ]
  },
  {
   "cell_type": "code",
   "execution_count": null,
   "id": "organizational-advice",
   "metadata": {
    "ExecuteTime": {
     "end_time": "2021-09-21T21:40:05.912534Z",
     "start_time": "2021-09-21T21:40:05.398749Z"
    }
   },
   "outputs": [],
   "source": [
    "my_page.save_html(\"my-page.html\")"
   ]
  },
  {
   "cell_type": "markdown",
   "id": "de53c552",
   "metadata": {},
   "source": [
    "### As a PDF"
   ]
  },
  {
   "cell_type": "code",
   "execution_count": null,
   "id": "virtual-celebration",
   "metadata": {
    "ExecuteTime": {
     "end_time": "2021-09-21T21:40:12.445181Z",
     "start_time": "2021-09-21T21:40:05.921526Z"
    }
   },
   "outputs": [],
   "source": [
    "my_page.save_pdf(\"my-page.pdf\")"
   ]
  }
 ],
 "metadata": {
  "hide_input": false,
  "kernelspec": {
   "display_name": "Python 3",
   "language": "python",
   "name": "python3"
  },
  "language_info": {
   "codemirror_mode": {
    "name": "ipython",
    "version": 3
   },
   "file_extension": ".py",
   "mimetype": "text/x-python",
   "name": "python",
   "nbconvert_exporter": "python",
   "pygments_lexer": "ipython3",
   "version": "3.8.5"
  },
  "toc": {
   "base_numbering": 1,
   "nav_menu": {},
   "number_sections": true,
   "sideBar": true,
   "skip_h1_title": true,
   "title_cell": "Table of Contents",
   "title_sidebar": "Contents",
   "toc_cell": false,
   "toc_position": {
    "height": "calc(100% - 180px)",
    "left": "10px",
    "top": "150px",
    "width": "269px"
   },
   "toc_section_display": true,
   "toc_window_display": true
  },
  "varInspector": {
   "cols": {
    "lenName": 16,
    "lenType": 16,
    "lenVar": 40
   },
   "kernels_config": {
    "python": {
     "delete_cmd_postfix": "",
     "delete_cmd_prefix": "del ",
     "library": "var_list.py",
     "varRefreshCmd": "print(var_dic_list())"
    },
    "r": {
     "delete_cmd_postfix": ") ",
     "delete_cmd_prefix": "rm(",
     "library": "var_list.r",
     "varRefreshCmd": "cat(var_dic_list()) "
    }
   },
   "types_to_exclude": [
    "module",
    "function",
    "builtin_function_or_method",
    "instance",
    "_Feature"
   ],
   "window_display": false
  }
 },
 "nbformat": 4,
 "nbformat_minor": 5
}
